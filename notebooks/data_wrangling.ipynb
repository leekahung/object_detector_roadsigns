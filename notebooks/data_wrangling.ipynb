{
 "cells": [
  {
   "cell_type": "markdown",
   "id": "03d53cee",
   "metadata": {},
   "source": [
    "# Data Wrangling\n",
    "For our computer vision project, we've pulled the original image data from [Kaggle](https://www.kaggle.com/andrewmvd/road-sign-detection). The dataset itself contains 877 images with 4 distinct classes pre-made. However, I wish to both verify the existing ground truths as well as and adding additional labels to the dataset. Thus, using labelImg, I was able to modify existing classes and add 2 additional classes ('nostop' and 'yield') to the dataset, therefore the following label count is as follows:\n",
    "\n",
    "Label count after modification:\n",
    "- 'trafficlight': 155 labels\n",
    "- 'stop': 93 labels\n",
    "- 'speedlimit': 788 labels\n",
    "- 'crosswalk': 218 labels\n",
    "- 'nostop': 107 labels\n",
    "- 'yield': 15 labels\n",
    "\n",
    "However, considering the amount of 'yield' labels there are in the dataset relative to other labels, 5 images were selected from the dataset to be augmented with rotations, noise, and/or image blur. The following lines of code were used for the python script (img_augmentation.py) and 100 new images were generated."
   ]
  },
  {
   "cell_type": "code",
   "execution_count": 1,
   "id": "360674f2",
   "metadata": {},
   "outputs": [],
   "source": [
    "# Import Dependencies\n",
    "import cv2\n",
    "import numpy as np\n",
    "from skimage import io \n",
    "from skimage.transform import rotate, AffineTransform, warp\n",
    "from skimage import img_as_ubyte\n",
    "from skimage.util import random_noise\n",
    "import matplotlib.pyplot as plt\n",
    "import random\n",
    "import os"
   ]
  },
  {
   "cell_type": "code",
   "execution_count": 2,
   "id": "3820b19b",
   "metadata": {},
   "outputs": [],
   "source": [
    "# Defining functions for augmenting image\n",
    "def anticlockwise_rotation(image):\n",
    "    angle= random.randint(0,180)\n",
    "    return rotate(image, angle)\n",
    "\n",
    "def clockwise_rotation(image):\n",
    "    angle= random.randint(0,180)\n",
    "    return rotate(image, -angle)\n",
    "\n",
    "def add_noise(image):\n",
    "    return random_noise(image)\n",
    "\n",
    "def blur_image(image):\n",
    "    return cv2.GaussianBlur(image, (5,5), 0)"
   ]
  },
  {
   "cell_type": "code",
   "execution_count": 3,
   "id": "3fe7c69b",
   "metadata": {},
   "outputs": [],
   "source": [
    "# Store transformations in dict\n",
    "transformations = {'rotate anticlockwise': anticlockwise_rotation, 'rotate clockwise': clockwise_rotation,\n",
    "                   'add noise': add_noise, 'blur image':blur_image}"
   ]
  },
  {
   "cell_type": "code",
   "execution_count": 4,
   "id": "d86e5148",
   "metadata": {},
   "outputs": [],
   "source": [
    "# Generating path to images\n",
    "curr_dir = os.getcwd()\n",
    "images_to_aug_dir = os.path.dirname(curr_dir)\n",
    "\n",
    "# Setting path for augmented images to go\n",
    "images_dir = os.path.dirname(images_to_aug_dir)\n",
    "augmented_dir = os.path.join(images_dir, 'augmented_images')"
   ]
  },
  {
   "cell_type": "code",
   "execution_count": 5,
   "id": "0310d0fd",
   "metadata": {},
   "outputs": [],
   "source": [
    "# Storing image files\n",
    "images=[]\n",
    "for im in os.listdir(curr_dir):\n",
    "    if im.endswith('.png'):\n",
    "        images.append(os.path.join(curr_dir,im))\n",
    "\n",
    "# Setting number of generated images\n",
    "images_to_generate = 100\n",
    "i = 1\n",
    "\n",
    "while i <= images_to_generate:    \n",
    "    image = random.choice(images)\n",
    "    original_image = io.imread(image)\n",
    "    transformed_image=None\n",
    "\n",
    "    # Choose random number of transformations to apply on image\n",
    "    transformation_count = random.randint(1, len(transformations))\n",
    "    n = 0\n",
    "    \n",
    "    while n <= transformation_count:\n",
    "        key = random.choice(list(transformations))\n",
    "        transformed_image = transformations[key](original_image)\n",
    "        n = n + 1\n",
    "    \n",
    "    # Setting augmented image path\n",
    "    new_image_path = \"%s/augmented_road%s.png\" %(augmented_dir, i)\n",
    "    \n",
    "    # Processing transformed image to unsigned byte format\n",
    "    transformed_image = img_as_ubyte(transformed_image)\n",
    "    \n",
    "    # Processing transformed image to RGB\n",
    "    transformed_image = cv2.cvtColor(transformed_image, cv2.COLOR_BGR2RGB)\n",
    "    \n",
    "    # Writing transformed image to file\n",
    "    cv2.imwrite(new_image_path, transformed_image)\n",
    "    i = i + 1"
   ]
  },
  {
   "cell_type": "code",
   "execution_count": null,
   "id": "05c7a786",
   "metadata": {},
   "outputs": [],
   "source": []
  }
 ],
 "metadata": {
  "kernelspec": {
   "display_name": "Python 3 (ipykernel)",
   "language": "python",
   "name": "python3"
  },
  "language_info": {
   "codemirror_mode": {
    "name": "ipython",
    "version": 3
   },
   "file_extension": ".py",
   "mimetype": "text/x-python",
   "name": "python",
   "nbconvert_exporter": "python",
   "pygments_lexer": "ipython3",
   "version": "3.7.7"
  }
 },
 "nbformat": 4,
 "nbformat_minor": 5
}
