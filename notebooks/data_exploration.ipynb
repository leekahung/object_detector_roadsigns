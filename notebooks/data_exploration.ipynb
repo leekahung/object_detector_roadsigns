{
 "cells": [
  {
   "cell_type": "markdown",
   "id": "59c404d4",
   "metadata": {},
   "source": [
    "# Data Exploration\n",
    "With the image augmented, the newly generated images were also labeled using labelImg. Combining this new set with the modified set, the following notebook is used to count the number of total labels as well as the percentage of each subset to the total label count. "
   ]
  },
  {
   "cell_type": "code",
   "execution_count": 1,
   "id": "131931ce",
   "metadata": {},
   "outputs": [],
   "source": [
    "# Importing Dependencies\n",
    "import pandas as pd\n",
    "import os\n",
    "import xml.etree.ElementTree as ET"
   ]
  },
  {
   "cell_type": "code",
   "execution_count": 2,
   "id": "ff2abeb1",
   "metadata": {},
   "outputs": [],
   "source": [
    "# Generating path to datasets\n",
    "curr_dir = os.getcwd()\n",
    "images_dir = os.path.join(curr_dir, 'images')"
   ]
  },
  {
   "cell_type": "code",
   "execution_count": 3,
   "id": "0d0328bf",
   "metadata": {},
   "outputs": [],
   "source": [
    "# Creating function to parse XML data\n",
    "def xml_reader(dir_path):\n",
    "    labels = []\n",
    "    files = []\n",
    "    for file in sorted(os.listdir(dir_path)):\n",
    "        if file.endswith('.xml'):\n",
    "            xml_file = os.path.join(images_dir, file)\n",
    "            files.append(xml_file)\n",
    "            xtree = ET.parse(xml_file)\n",
    "            xroot = xtree.getroot()\n",
    "            for child in xroot:\n",
    "                if child.tag == 'object':\n",
    "                    for data_name in child:\n",
    "                        if data_name.tag == 'name':\n",
    "                            labels.append(data_name.text)\n",
    "    return labels, files"
   ]
  },
  {
   "cell_type": "code",
   "execution_count": 4,
   "id": "315dab52",
   "metadata": {},
   "outputs": [],
   "source": [
    "labels, files = xml_reader(images_dir)"
   ]
  },
  {
   "cell_type": "code",
   "execution_count": 5,
   "id": "1a8e9e96",
   "metadata": {},
   "outputs": [],
   "source": [
    "labels_dict = {'trafficlight':labels.count('trafficlight'),\n",
    "               'stop':labels.count('stop'),\n",
    "               'speedlimit':labels.count('speedlimit'),\n",
    "               'crosswalk':labels.count('crosswalk'),\n",
    "               'nostop':labels.count('nostop'),\n",
    "               'yield':labels.count('yield')}"
   ]
  },
  {
   "cell_type": "code",
   "execution_count": 6,
   "id": "e7ab0d72",
   "metadata": {},
   "outputs": [],
   "source": [
    "# Creating Pandas DataFrame for labels\n",
    "labels_df = pd.DataFrame(labels_dict.items(), columns=['label','count'])"
   ]
  },
  {
   "cell_type": "code",
   "execution_count": 7,
   "id": "aa2862dd",
   "metadata": {},
   "outputs": [
    {
     "data": {
      "text/html": [
       "<div>\n",
       "<style scoped>\n",
       "    .dataframe tbody tr th:only-of-type {\n",
       "        vertical-align: middle;\n",
       "    }\n",
       "\n",
       "    .dataframe tbody tr th {\n",
       "        vertical-align: top;\n",
       "    }\n",
       "\n",
       "    .dataframe thead th {\n",
       "        text-align: right;\n",
       "    }\n",
       "</style>\n",
       "<table border=\"1\" class=\"dataframe\">\n",
       "  <thead>\n",
       "    <tr style=\"text-align: right;\">\n",
       "      <th></th>\n",
       "      <th>label</th>\n",
       "      <th>count</th>\n",
       "    </tr>\n",
       "  </thead>\n",
       "  <tbody>\n",
       "    <tr>\n",
       "      <th>0</th>\n",
       "      <td>trafficlight</td>\n",
       "      <td>176</td>\n",
       "    </tr>\n",
       "    <tr>\n",
       "      <th>1</th>\n",
       "      <td>stop</td>\n",
       "      <td>93</td>\n",
       "    </tr>\n",
       "    <tr>\n",
       "      <th>2</th>\n",
       "      <td>speedlimit</td>\n",
       "      <td>862</td>\n",
       "    </tr>\n",
       "    <tr>\n",
       "      <th>3</th>\n",
       "      <td>crosswalk</td>\n",
       "      <td>298</td>\n",
       "    </tr>\n",
       "    <tr>\n",
       "      <th>4</th>\n",
       "      <td>nostop</td>\n",
       "      <td>107</td>\n",
       "    </tr>\n",
       "    <tr>\n",
       "      <th>5</th>\n",
       "      <td>yield</td>\n",
       "      <td>111</td>\n",
       "    </tr>\n",
       "  </tbody>\n",
       "</table>\n",
       "</div>"
      ],
      "text/plain": [
       "          label  count\n",
       "0  trafficlight    176\n",
       "1          stop     93\n",
       "2    speedlimit    862\n",
       "3     crosswalk    298\n",
       "4        nostop    107\n",
       "5         yield    111"
      ]
     },
     "execution_count": 7,
     "metadata": {},
     "output_type": "execute_result"
    }
   ],
   "source": [
    "labels_df"
   ]
  },
  {
   "cell_type": "code",
   "execution_count": 8,
   "id": "dff8b48e",
   "metadata": {},
   "outputs": [],
   "source": [
    "labels_df['subset size (%)'] = round(((labels_df['count'] / labels_df['count'].sum()) * 100), 2)"
   ]
  },
  {
   "cell_type": "code",
   "execution_count": 9,
   "id": "7ddd3765",
   "metadata": {},
   "outputs": [
    {
     "data": {
      "text/html": [
       "<div>\n",
       "<style scoped>\n",
       "    .dataframe tbody tr th:only-of-type {\n",
       "        vertical-align: middle;\n",
       "    }\n",
       "\n",
       "    .dataframe tbody tr th {\n",
       "        vertical-align: top;\n",
       "    }\n",
       "\n",
       "    .dataframe thead th {\n",
       "        text-align: right;\n",
       "    }\n",
       "</style>\n",
       "<table border=\"1\" class=\"dataframe\">\n",
       "  <thead>\n",
       "    <tr style=\"text-align: right;\">\n",
       "      <th></th>\n",
       "      <th>label</th>\n",
       "      <th>count</th>\n",
       "      <th>subset size (%)</th>\n",
       "    </tr>\n",
       "  </thead>\n",
       "  <tbody>\n",
       "    <tr>\n",
       "      <th>0</th>\n",
       "      <td>trafficlight</td>\n",
       "      <td>176</td>\n",
       "      <td>10.69</td>\n",
       "    </tr>\n",
       "    <tr>\n",
       "      <th>1</th>\n",
       "      <td>stop</td>\n",
       "      <td>93</td>\n",
       "      <td>5.65</td>\n",
       "    </tr>\n",
       "    <tr>\n",
       "      <th>2</th>\n",
       "      <td>speedlimit</td>\n",
       "      <td>862</td>\n",
       "      <td>52.34</td>\n",
       "    </tr>\n",
       "    <tr>\n",
       "      <th>3</th>\n",
       "      <td>crosswalk</td>\n",
       "      <td>298</td>\n",
       "      <td>18.09</td>\n",
       "    </tr>\n",
       "    <tr>\n",
       "      <th>4</th>\n",
       "      <td>nostop</td>\n",
       "      <td>107</td>\n",
       "      <td>6.50</td>\n",
       "    </tr>\n",
       "    <tr>\n",
       "      <th>5</th>\n",
       "      <td>yield</td>\n",
       "      <td>111</td>\n",
       "      <td>6.74</td>\n",
       "    </tr>\n",
       "  </tbody>\n",
       "</table>\n",
       "</div>"
      ],
      "text/plain": [
       "          label  count  subset size (%)\n",
       "0  trafficlight    176            10.69\n",
       "1          stop     93             5.65\n",
       "2    speedlimit    862            52.34\n",
       "3     crosswalk    298            18.09\n",
       "4        nostop    107             6.50\n",
       "5         yield    111             6.74"
      ]
     },
     "execution_count": 9,
     "metadata": {},
     "output_type": "execute_result"
    }
   ],
   "source": [
    "labels_df"
   ]
  },
  {
   "cell_type": "code",
   "execution_count": 10,
   "id": "8b091aea",
   "metadata": {},
   "outputs": [
    {
     "name": "stdout",
     "output_type": "stream",
     "text": [
      "Total label count: 1647\n"
     ]
    }
   ],
   "source": [
    "print(\"Total label count: {}\".format(labels_df['count'].sum()))"
   ]
  },
  {
   "cell_type": "code",
   "execution_count": 11,
   "id": "d6a8c143",
   "metadata": {},
   "outputs": [
    {
     "name": "stdout",
     "output_type": "stream",
     "text": [
      "Total number of files: 977\n"
     ]
    }
   ],
   "source": [
    "print(\"Total number of files: {}\".format(len(files)))"
   ]
  },
  {
   "cell_type": "code",
   "execution_count": null,
   "id": "c8f67882",
   "metadata": {},
   "outputs": [],
   "source": []
  }
 ],
 "metadata": {
  "kernelspec": {
   "display_name": "Python 3 (ipykernel)",
   "language": "python",
   "name": "python3"
  },
  "language_info": {
   "codemirror_mode": {
    "name": "ipython",
    "version": 3
   },
   "file_extension": ".py",
   "mimetype": "text/x-python",
   "name": "python",
   "nbconvert_exporter": "python",
   "pygments_lexer": "ipython3",
   "version": "3.7.7"
  }
 },
 "nbformat": 4,
 "nbformat_minor": 5
}
